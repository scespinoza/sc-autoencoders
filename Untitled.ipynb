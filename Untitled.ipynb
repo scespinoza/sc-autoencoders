{
 "cells": [
  {
   "cell_type": "code",
   "execution_count": 1,
   "metadata": {},
   "outputs": [],
   "source": [
    "from preprocess import GSE\n",
    "from models import AutoEncoder"
   ]
  },
  {
   "cell_type": "code",
   "execution_count": 2,
   "metadata": {},
   "outputs": [],
   "source": [
    "dataset = GSE()\n",
    "X_train, y_train = dataset.train\n",
    "X_test, y_test = dataset.test"
   ]
  },
  {
   "cell_type": "code",
   "execution_count": 3,
   "metadata": {},
   "outputs": [],
   "source": [
    "model = AutoEncoder(original_dim=dataset.n_genes)"
   ]
  },
  {
   "cell_type": "code",
   "execution_count": null,
   "metadata": {},
   "outputs": [
    {
     "name": "stdout",
     "output_type": "stream",
     "text": [
      "Train on 322 samples, validate on 108 samples\n",
      "Epoch 1/50\n",
      "WARNING:tensorflow:Gradients do not exist for variables ['AutoEncoder/Encoder/dense_3/kernel:0', 'AutoEncoder/Encoder/dense_3/bias:0'] when minimizing the loss.\n",
      "WARNING:tensorflow:Gradients do not exist for variables ['AutoEncoder/Encoder/dense_3/kernel:0', 'AutoEncoder/Encoder/dense_3/bias:0'] when minimizing the loss.\n",
      "322/322 [==============================] - 8s 24ms/sample - loss: 2700.5482 - val_loss: 3994.6744\n",
      "Epoch 2/50\n",
      "322/322 [==============================] - 4s 14ms/sample - loss: 2583.3307 - val_loss: 4028.4289\n",
      "Epoch 3/50\n",
      "322/322 [==============================] - 4s 11ms/sample - loss: 2540.6500 - val_loss: 4050.2003\n",
      "Epoch 4/50\n",
      "322/322 [==============================] - 4s 11ms/sample - loss: 2518.3565 - val_loss: 4115.7472\n",
      "Epoch 5/50\n",
      "322/322 [==============================] - 4s 12ms/sample - loss: 2507.7224 - val_loss: 4112.9651\n",
      "Epoch 6/50\n",
      "322/322 [==============================] - 4s 12ms/sample - loss: 2503.8970 - val_loss: 4154.2518\n",
      "Epoch 7/50\n",
      "322/322 [==============================] - 3s 11ms/sample - loss: 2502.6483 - val_loss: 4163.6542\n"
     ]
    }
   ],
   "source": [
    "from tensorflow.keras.optimizers import Adam\n",
    "model.compile(optimizer=Adam(0.0006), loss=model.compute_loss)\n",
    "history = model.fit(X_train, X_train, epochs=50, validation_data=(X_test, X_test))"
   ]
  },
  {
   "cell_type": "code",
   "execution_count": null,
   "metadata": {},
   "outputs": [],
   "source": [
    "import matplotlib.pyplot as plt"
   ]
  },
  {
   "cell_type": "code",
   "execution_count": null,
   "metadata": {},
   "outputs": [],
   "source": [
    "plt.plot(history.history['loss'])"
   ]
  },
  {
   "cell_type": "code",
   "execution_count": null,
   "metadata": {},
   "outputs": [],
   "source": [
    "z, _ = model.encoder(X_train)"
   ]
  },
  {
   "cell_type": "code",
   "execution_count": null,
   "metadata": {},
   "outputs": [],
   "source": [
    "from sklearn.manifold import TSNE\n",
    "z_tsne = TSNE().fit_transform(z.numpy())\n",
    "plt.scatter(z_tsne[:, 0], z_tsne[:, 1], c=y_train, cmap='rainbow')"
   ]
  },
  {
   "cell_type": "code",
   "execution_count": null,
   "metadata": {},
   "outputs": [],
   "source": [
    "import seaborn as sns"
   ]
  },
  {
   "cell_type": "code",
   "execution_count": null,
   "metadata": {},
   "outputs": [],
   "source": [
    "fig, ax = plt.subplots(1, 2)\n",
    "sns.heatmap(X_train, ax=ax[0])\n",
    "sns.heatmap(model.predict(X_train), ax=ax[1])"
   ]
  },
  {
   "cell_type": "code",
   "execution_count": null,
   "metadata": {},
   "outputs": [],
   "source": []
  }
 ],
 "metadata": {
  "kernelspec": {
   "display_name": "Python 3",
   "language": "python",
   "name": "python3"
  },
  "language_info": {
   "codemirror_mode": {
    "name": "ipython",
    "version": 3
   },
   "file_extension": ".py",
   "mimetype": "text/x-python",
   "name": "python",
   "nbconvert_exporter": "python",
   "pygments_lexer": "ipython3",
   "version": "3.7.4"
  }
 },
 "nbformat": 4,
 "nbformat_minor": 2
}
