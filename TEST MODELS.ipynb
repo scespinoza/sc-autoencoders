{
 "cells": [
  {
   "cell_type": "code",
   "execution_count": 1,
   "metadata": {},
   "outputs": [],
   "source": [
    "import matplotlib.pyplot as plt\n",
    "import seaborn as sns\n",
    "from preprocess import GSE\n",
    "from models import AutoEncoder, VariationalAutoEncoder, PlotLatentSpace"
   ]
  },
  {
   "cell_type": "code",
   "execution_count": 2,
   "metadata": {},
   "outputs": [],
   "source": [
    "dataset = GSE()\n",
    "X_train, y_train = dataset.train\n",
    "X_test, y_test = dataset.test"
   ]
  },
  {
   "cell_type": "code",
   "execution_count": 3,
   "metadata": {},
   "outputs": [],
   "source": [
    "model = VariationalAutoEncoder(original_dim=dataset.n_genes)"
   ]
  },
  {
   "cell_type": "code",
   "execution_count": null,
   "metadata": {},
   "outputs": [
    {
     "name": "stdout",
     "output_type": "stream",
     "text": [
      "Train on 322 samples, validate on 108 samples\n",
      "Epoch 1/1000\n",
      "320/322 [============================>.] - ETA: 0s - loss: 4010.4907WARNING:tensorflow:Layer Encoder is casting an input tensor from dtype float64 to the layer's dtype of float32, which is new behavior in TensorFlow 2.  The layer has dtype float32 because it's dtype defaults to floatx.\n",
      "\n",
      "If you intended to run this layer in float32, you can safely ignore this warning. If in doubt, this warning is likely only an issue if you are porting a TensorFlow 1.X model to TensorFlow 2.\n",
      "\n",
      "To change all layers to have dtype float64 by default, call `tf.keras.backend.set_floatx('float64')`. To change just this layer, pass dtype='float64' to the layer constructor. If you are the author of this layer, you can disable autocasting by passing autocast=False to the base Layer constructor.\n",
      "\n",
      "322/322 [==============================] - 8s 26ms/sample - loss: 4009.2230 - val_loss: 3731.3280\n",
      "Epoch 2/1000\n",
      "256/322 [======================>.......] - ETA: 0s - loss: 3653.5038"
     ]
    }
   ],
   "source": [
    "from tensorflow.keras.optimizers import Adam\n",
    "from tensorflow.keras.callbacks import EarlyStopping\n",
    "\n",
    "early_stopping = EarlyStopping(patience=20)\n",
    "plot_latent = PlotLatentSpace(model, X_train, y_train, interval=20)\n",
    "model.compile(optimizer=Adam(0.0001), loss=model.reconstruction_loss)\n",
    "history = model.fit(X_train, X_train, epochs=1000, validation_data=(X_test, X_test),\n",
    "                    callbacks=[early_stopping, plot_latent], verbose=True)"
   ]
  },
  {
   "cell_type": "code",
   "execution_count": null,
   "metadata": {},
   "outputs": [],
   "source": [
    "import matplotlib.pyplot as plt"
   ]
  },
  {
   "cell_type": "code",
   "execution_count": null,
   "metadata": {},
   "outputs": [],
   "source": [
    "plt.plot(history.history['loss'])\n",
    "plt.plot(history.history['val_loss'])"
   ]
  },
  {
   "cell_type": "code",
   "execution_count": null,
   "metadata": {},
   "outputs": [],
   "source": [
    "mu, logvar = model.encoder(X_train)\n",
    "z = model.sampling([mu, logvar])"
   ]
  },
  {
   "cell_type": "code",
   "execution_count": null,
   "metadata": {},
   "outputs": [],
   "source": [
    "from sklearn.manifold import TSNE\n",
    "z_tsne = TSNE().fit_transform(z.numpy())\n",
    "x_tsne = TSNE().fit_transform(X_train)\n",
    "fig, ax = plt.subplots(1, 2, figsize=(16, 9))\n",
    "ax[0].scatter(z_tsne[:, 0], z_tsne[:, 1], c=y_train, cmap='rainbow')\n",
    "ax[1].scatter(x_tsne[:, 0], x_tsne[:, 1], c=y_train, cmap='rainbow')"
   ]
  },
  {
   "cell_type": "code",
   "execution_count": null,
   "metadata": {},
   "outputs": [],
   "source": [
    "x_hat = model.predict(X_train)\n",
    "sns.heatmap(x_hat)"
   ]
  },
  {
   "cell_type": "code",
   "execution_count": null,
   "metadata": {},
   "outputs": [],
   "source": []
  }
 ],
 "metadata": {
  "kernelspec": {
   "display_name": "Python 3",
   "language": "python",
   "name": "python3"
  },
  "language_info": {
   "codemirror_mode": {
    "name": "ipython",
    "version": 3
   },
   "file_extension": ".py",
   "mimetype": "text/x-python",
   "name": "python",
   "nbconvert_exporter": "python",
   "pygments_lexer": "ipython3",
   "version": "3.7.4"
  }
 },
 "nbformat": 4,
 "nbformat_minor": 2
}
