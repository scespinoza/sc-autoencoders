{
 "cells": [
  {
   "cell_type": "markdown",
   "metadata": {},
   "source": [
    "# Gene Statistics\n",
    "\n",
    "Collect gene stats from all datasets.\n",
    "\n",
    "'gene_counts.txt' contains the number of times that each gene appears (is expressed at least in one cell) in all datasets."
   ]
  },
  {
   "cell_type": "code",
   "execution_count": 1,
   "metadata": {},
   "outputs": [],
   "source": [
    "import os\n",
    "import numpy as np\n",
    "import pandas as pd\n",
    "import matplotlib.pyplot as plt\n",
    "import seaborn as sns"
   ]
  },
  {
   "cell_type": "code",
   "execution_count": 2,
   "metadata": {},
   "outputs": [],
   "source": [
    "gene_counts = pd.read_csv('gene_counts.txt')"
   ]
  },
  {
   "cell_type": "code",
   "execution_count": 3,
   "metadata": {},
   "outputs": [
    {
     "data": {
      "text/html": [
       "<div>\n",
       "<style scoped>\n",
       "    .dataframe tbody tr th:only-of-type {\n",
       "        vertical-align: middle;\n",
       "    }\n",
       "\n",
       "    .dataframe tbody tr th {\n",
       "        vertical-align: top;\n",
       "    }\n",
       "\n",
       "    .dataframe thead th {\n",
       "        text-align: right;\n",
       "    }\n",
       "</style>\n",
       "<table border=\"1\" class=\"dataframe\">\n",
       "  <thead>\n",
       "    <tr style=\"text-align: right;\">\n",
       "      <th></th>\n",
       "      <th>Gene</th>\n",
       "      <th>Count</th>\n",
       "    </tr>\n",
       "  </thead>\n",
       "  <tbody>\n",
       "    <tr>\n",
       "      <th>0</th>\n",
       "      <td>SNX3</td>\n",
       "      <td>8</td>\n",
       "    </tr>\n",
       "    <tr>\n",
       "      <th>1</th>\n",
       "      <td>INMT</td>\n",
       "      <td>8</td>\n",
       "    </tr>\n",
       "    <tr>\n",
       "      <th>2</th>\n",
       "      <td>DHODH</td>\n",
       "      <td>8</td>\n",
       "    </tr>\n",
       "    <tr>\n",
       "      <th>3</th>\n",
       "      <td>MIEN1</td>\n",
       "      <td>8</td>\n",
       "    </tr>\n",
       "    <tr>\n",
       "      <th>4</th>\n",
       "      <td>EXD2</td>\n",
       "      <td>8</td>\n",
       "    </tr>\n",
       "  </tbody>\n",
       "</table>\n",
       "</div>"
      ],
      "text/plain": [
       "    Gene   Count\n",
       "0   SNX3       8\n",
       "1   INMT       8\n",
       "2  DHODH       8\n",
       "3  MIEN1       8\n",
       "4   EXD2       8"
      ]
     },
     "execution_count": 3,
     "metadata": {},
     "output_type": "execute_result"
    }
   ],
   "source": [
    "gene_counts.head()"
   ]
  },
  {
   "cell_type": "code",
   "execution_count": 5,
   "metadata": {},
   "outputs": [
    {
     "data": {
      "text/html": [
       "<div>\n",
       "<style scoped>\n",
       "    .dataframe tbody tr th:only-of-type {\n",
       "        vertical-align: middle;\n",
       "    }\n",
       "\n",
       "    .dataframe tbody tr th {\n",
       "        vertical-align: top;\n",
       "    }\n",
       "\n",
       "    .dataframe thead th {\n",
       "        text-align: right;\n",
       "    }\n",
       "</style>\n",
       "<table border=\"1\" class=\"dataframe\">\n",
       "  <thead>\n",
       "    <tr style=\"text-align: right;\">\n",
       "      <th></th>\n",
       "      <th>Gene</th>\n",
       "      <th>Count</th>\n",
       "    </tr>\n",
       "  </thead>\n",
       "  <tbody>\n",
       "    <tr>\n",
       "      <th>8886</th>\n",
       "      <td>CD4</td>\n",
       "      <td>7</td>\n",
       "    </tr>\n",
       "  </tbody>\n",
       "</table>\n",
       "</div>"
      ],
      "text/plain": [
       "     Gene   Count\n",
       "8886  CD4       7"
      ]
     },
     "execution_count": 5,
     "metadata": {},
     "output_type": "execute_result"
    }
   ],
   "source": [
    "gene_counts[gene_counts['Gene']  == 'CD4']"
   ]
  },
  {
   "cell_type": "code",
   "execution_count": 6,
   "metadata": {},
   "outputs": [
    {
     "data": {
      "text/html": [
       "<div>\n",
       "<style scoped>\n",
       "    .dataframe tbody tr th:only-of-type {\n",
       "        vertical-align: middle;\n",
       "    }\n",
       "\n",
       "    .dataframe tbody tr th {\n",
       "        vertical-align: top;\n",
       "    }\n",
       "\n",
       "    .dataframe thead th {\n",
       "        text-align: right;\n",
       "    }\n",
       "</style>\n",
       "<table border=\"1\" class=\"dataframe\">\n",
       "  <thead>\n",
       "    <tr style=\"text-align: right;\">\n",
       "      <th></th>\n",
       "      <th>Gene</th>\n",
       "      <th>Count</th>\n",
       "    </tr>\n",
       "  </thead>\n",
       "  <tbody>\n",
       "    <tr>\n",
       "      <th>17208</th>\n",
       "      <td>CD3G</td>\n",
       "      <td>6</td>\n",
       "    </tr>\n",
       "  </tbody>\n",
       "</table>\n",
       "</div>"
      ],
      "text/plain": [
       "       Gene   Count\n",
       "17208  CD3G       6"
      ]
     },
     "execution_count": 6,
     "metadata": {},
     "output_type": "execute_result"
    }
   ],
   "source": [
    "gene_counts[gene_counts['Gene']  == 'CD3G']"
   ]
  },
  {
   "cell_type": "markdown",
   "metadata": {},
   "source": [
    "## Malignant Datasets"
   ]
  },
  {
   "cell_type": "code",
   "execution_count": 2,
   "metadata": {},
   "outputs": [],
   "source": [
    "malignant_datasets = ['GSE102130.txt',\n",
    "                         'GSE131928_SmartSeq2.txt',\n",
    "                         'GSE89567.txt',\n",
    "                         'GSE70630.txt',\n",
    "                         'GSE131928_10x.txt',\n",
    "                         'GSE57872.txt',\n",
    "                         'GSE132172_GliNS2.txt',\n",
    "                         'GSE103224.txt']\n",
    "# GSE84465 not analyzed yet"
   ]
  },
  {
   "cell_type": "code",
   "execution_count": 3,
   "metadata": {},
   "outputs": [],
   "source": [
    "os.chdir('clean_data')\n",
    "datasets = {}\n",
    "for dataset in malignant_datasets:\n",
    "    dataset_name = dataset.split('.')[0]\n",
    "    if dataset_name == 'GSE103224':\n",
    "        datasets[dataset_name] = np.unique(pd.read_csv(dataset, sep='\\t', usecols=[1]).values)\n",
    "    else:\n",
    "        datasets[dataset_name] = pd.read_csv(dataset, sep='\\t', usecols=[0]).values.flatten()\n",
    "        \n",
    "os.chdir('..')"
   ]
  },
  {
   "cell_type": "code",
   "execution_count": 4,
   "metadata": {},
   "outputs": [
    {
     "name": "stdout",
     "output_type": "stream",
     "text": [
      "GSE102130\n",
      "n_genes: 22639\n",
      "unique_genes: 22639\n",
      "\n",
      "GSE131928_SmartSeq2\n",
      "n_genes: 22814\n",
      "unique_genes: 22814\n",
      "\n",
      "GSE89567\n",
      "n_genes: 22695\n",
      "unique_genes: 22695\n",
      "\n",
      "GSE70630\n",
      "n_genes: 22556\n",
      "unique_genes: 22556\n",
      "\n",
      "GSE131928_10x\n",
      "n_genes: 24557\n",
      "unique_genes: 24557\n",
      "\n",
      "GSE57872\n",
      "n_genes: 5948\n",
      "unique_genes: 5948\n",
      "\n",
      "GSE132172_GliNS2\n",
      "n_genes: 18299\n",
      "unique_genes: 18299\n",
      "\n",
      "GSE103224\n",
      "n_genes: 58828\n",
      "unique_genes: 58828\n",
      "\n"
     ]
    }
   ],
   "source": [
    "for name in datasets:\n",
    "    print(name)\n",
    "    print(\"n_genes: {}\".format(datasets[name].shape[0]))\n",
    "    print(\"unique_genes: {}\".format(np.unique(datasets[name]).shape[0]))\n",
    "    print()"
   ]
  },
  {
   "cell_type": "code",
   "execution_count": 5,
   "metadata": {},
   "outputs": [
    {
     "data": {
      "text/plain": [
       "TMEM219          8\n",
       "ZNF770           8\n",
       "UAP1             8\n",
       "VPS29            8\n",
       "SAR1A            8\n",
       "                ..\n",
       "RP1-66N13.1      1\n",
       "CITF22-62D4.1    1\n",
       "RNU6-1290P       1\n",
       "RP11-326A13.1    1\n",
       "RP11-570L15.1    1\n",
       "Length: 61261, dtype: int64"
      ]
     },
     "execution_count": 5,
     "metadata": {},
     "output_type": "execute_result"
    }
   ],
   "source": [
    "all_genes = pd.Series(np.concatenate([datasets[name] for name in datasets]).flatten())\n",
    "gene_counts = all_genes.value_counts() \n",
    "gene_counts"
   ]
  },
  {
   "cell_type": "markdown",
   "metadata": {},
   "source": [
    "## Pediatric Glioblastoma"
   ]
  },
  {
   "cell_type": "code",
   "execution_count": 6,
   "metadata": {},
   "outputs": [],
   "source": [
    "all_genes_wo_pediatric = np.concatenate([datasets[name] for name in datasets if name != 'GSE102130']).flatten()"
   ]
  },
  {
   "cell_type": "code",
   "execution_count": 7,
   "metadata": {},
   "outputs": [],
   "source": [
    "pediatric = datasets['GSE102130']"
   ]
  },
  {
   "cell_type": "code",
   "execution_count": 8,
   "metadata": {},
   "outputs": [],
   "source": [
    "only_pediatric = np.array([gene for gene in pediatric if not gene in all_genes_wo_pediatric])"
   ]
  },
  {
   "cell_type": "code",
   "execution_count": null,
   "metadata": {},
   "outputs": [],
   "source": []
  },
  {
   "cell_type": "code",
   "execution_count": 9,
   "metadata": {},
   "outputs": [
    {
     "data": {
      "text/plain": [
       "array(['DUX2', 'GAGE7', 'MIR1206', 'MIR3202-1', 'MIR4678', 'SNORD114-8'],\n",
       "      dtype='<U10')"
      ]
     },
     "execution_count": 9,
     "metadata": {},
     "output_type": "execute_result"
    }
   ],
   "source": [
    "only_pediatric"
   ]
  },
  {
   "cell_type": "markdown",
   "metadata": {},
   "source": [
    "## Non-malignant dataset"
   ]
  },
  {
   "cell_type": "code",
   "execution_count": 10,
   "metadata": {},
   "outputs": [],
   "source": [
    "df = pd.read_csv('clean_data/GSE132172_CB660.txt', sep='\\t', index_col=0)"
   ]
  },
  {
   "cell_type": "code",
   "execution_count": 11,
   "metadata": {},
   "outputs": [
    {
     "data": {
      "text/plain": [
       "Index(['SH3TC2', 'NKAIN4', 'SLC24A2', 'TMEM212', 'HNMT', 'HOXC9', 'PMP2',\n",
       "       'CSGALNACT1', 'SNCAIP', 'TFCP2L1',\n",
       "       ...\n",
       "       'CTD-2027I19.2', 'RP11-69M1.4', 'AP003176.1', 'AC009196.1',\n",
       "       'RP11-272M24.2', 'RP1-66N13.1', 'CITF22-62D4.1', 'RNU6-1290P',\n",
       "       'RP11-326A13.1', 'RP11-570L15.1'],\n",
       "      dtype='object', length=43693)"
      ]
     },
     "execution_count": 11,
     "metadata": {},
     "output_type": "execute_result"
    }
   ],
   "source": [
    "mask = gene_counts.index.map(lambda i: not i in df.index)\n",
    "gene_counts.index[mask]"
   ]
  },
  {
   "cell_type": "code",
   "execution_count": 20,
   "metadata": {},
   "outputs": [],
   "source": [
    "gene_only_in_malignant = gene_counts.index[mask]"
   ]
  },
  {
   "cell_type": "code",
   "execution_count": 24,
   "metadata": {},
   "outputs": [],
   "source": [
    "gene_only_non_malignant = df.index[df.index.map(lambda i: not i in gene_counts.index)]"
   ]
  },
  {
   "cell_type": "code",
   "execution_count": 29,
   "metadata": {},
   "outputs": [
    {
     "data": {
      "text/plain": [
       "False"
      ]
     },
     "execution_count": 29,
     "metadata": {},
     "output_type": "execute_result"
    }
   ],
   "source": [
    "gene_only_in_malignant.map(lambda i: i in gene_only_non_malignant).any()"
   ]
  },
  {
   "cell_type": "code",
   "execution_count": null,
   "metadata": {},
   "outputs": [],
   "source": []
  }
 ],
 "metadata": {
  "kernelspec": {
   "display_name": "Python [conda env:sc-rna-seq]",
   "language": "python",
   "name": "conda-env-sc-rna-seq-py"
  },
  "language_info": {
   "codemirror_mode": {
    "name": "ipython",
    "version": 3
   },
   "file_extension": ".py",
   "mimetype": "text/x-python",
   "name": "python",
   "nbconvert_exporter": "python",
   "pygments_lexer": "ipython3",
   "version": "3.7.6"
  }
 },
 "nbformat": 4,
 "nbformat_minor": 2
}
